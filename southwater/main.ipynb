{
 "cells": [
  {
   "cell_type": "code",
   "execution_count": 62,
   "metadata": {},
   "outputs": [],
   "source": [
    "import pandas as pd\n",
    "import yfinance\n",
    "from bs4 import BeautifulSoup as bs\n",
    "import requests\n",
    "from datetime import datetime"
   ]
  },
  {
   "cell_type": "code",
   "execution_count": 63,
   "metadata": {},
   "outputs": [],
   "source": [
    "# \n",
    "url = 'http://www.aastocks.com/tc/cnhk/market/quota-balance/hk-connect'\n",
    "r = requests.get(url)\n",
    "soup = bs(r.text, 'lxml')\n",
    "header = ['日期','剩餘額度(佔額度)','資金流向','買入成交額(港元)','賣出成交額(港元)','總成交額(佔大市成交%)']\n",
    "results = soup.find_all('tr',{'class':'bord2 txt_c'})\n",
    "#print(header)\n",
    "data = []\n",
    "\n",
    "for x in results:\n",
    "    \n",
    "    lst = (x.text).split(' ')[1:-1]\n",
    "    data.append(lst)\n",
    "    \n",
    "df = pd.DataFrame(data[0:-1],columns=header)"
   ]
  },
  {
   "cell_type": "code",
   "execution_count": 64,
   "metadata": {},
   "outputs": [],
   "source": [
    "df['日期'] = df['日期'].apply(lambda x: datetime.strptime(x, '%Y/%m/%d'))"
   ]
  },
  {
   "cell_type": "code",
   "execution_count": 61,
   "metadata": {},
   "outputs": [],
   "source": [
    "df\n",
    "import sqlite3\n",
    "conn = sqlite3.connect('data.db')\n",
    "df.to_sql('data',conn,if_exists='append')"
   ]
  },
  {
   "cell_type": "code",
   "execution_count": null,
   "metadata": {},
   "outputs": [],
   "source": []
  }
 ],
 "metadata": {
  "kernelspec": {
   "display_name": "Python 3",
   "language": "python",
   "name": "python3"
  },
  "language_info": {
   "codemirror_mode": {
    "name": "ipython",
    "version": 3
   },
   "file_extension": ".py",
   "mimetype": "text/x-python",
   "name": "python",
   "nbconvert_exporter": "python",
   "pygments_lexer": "ipython3",
   "version": "3.8.2"
  }
 },
 "nbformat": 4,
 "nbformat_minor": 2
}
