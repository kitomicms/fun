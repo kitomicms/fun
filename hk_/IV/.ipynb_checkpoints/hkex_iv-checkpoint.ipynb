{
 "cells": [
  {
   "cell_type": "code",
   "execution_count": 40,
   "metadata": {},
   "outputs": [
    {
     "name": "stderr",
     "output_type": "stream",
     "text": [
      "<ipython-input-40-070f7c32a0e8>:53: DeprecationWarning: use options instead of chrome_options\n",
      "  driver = webdriver.Chrome('./chromedriver',chrome_options=chrome_options)\n"
     ]
    }
   ],
   "source": [
    "# just update driver and run, will create folder with date in \"downloads\" folder\n",
    "### development\n",
    "# create database to store the data\n",
    "\n",
    "\n",
    "from selenium import webdriver\n",
    "from selenium.webdriver.common.keys import Keys\n",
    "from selenium.webdriver.common.by import By\n",
    "from selenium.webdriver.chrome.options import Options\n",
    "import pandas as pd\n",
    "import os\n",
    "import wget\n",
    "import sqlite3\n",
    "from bs4 import BeautifulSoup as bs\n",
    "from lxml import etree\n",
    "chrome_options = Options()\n",
    "chrome_options.add_argument(\"--headless\")\n",
    "headers = {\n",
    "    #'User-Agent':str(ua.chrome)\n",
    "    'User-Agent':'Mozilla/5.0 AppleWebKit/537.36 (KHTML, like Gecko; Google Web Preview Analytics) Chrome/41.0.2272.118 Safari/537.36 (compatible; Googlebot/2.1; +http://www.google.com/bot.html)'\n",
    "}\n",
    "\n",
    "###Date\n",
    "from datetime import datetime\n",
    "from datetime import timedelta\n",
    "dt = datetime.today()\n",
    "year = str(dt.year)\n",
    "month = str(dt.month).zfill(2)\n",
    "day = str(dt.day).zfill(2)\n",
    "date = year+ '-' + month +'-' + day\n",
    "\n",
    "###Input\n",
    "folder = 'downloads/' + date +'/'\n",
    "try:\n",
    "    os.mkdir(folder)\n",
    "except:\n",
    "    None\n",
    "\n",
    "def download_iv_file(stock_code):\n",
    "    \n",
    "    url = 'https://www.hkex.com.hk/chi/sorc/options/statistics_hv_iv_c.aspx?action=csv&type=3&ucode=' + stock_code\n",
    "    destination = folder + stock_code + '_' + date + '.csv'\n",
    "    wget.download(url,out=destination)\n",
    "    \n",
    "    \n",
    "        \n",
    "def underlying_list():\n",
    "    date_list = []\n",
    "    date_value = []\n",
    "    if os.name == 'nt':\n",
    "        driver = webdriver.Chrome('./chromedriver (2).exe',chrome_options=chrome_options)\n",
    "    else:\n",
    "        driver = webdriver.Chrome('./chromedriver',chrome_options=chrome_options)\n",
    "    driver.set_window_size(1440, 900)\n",
    "    \n",
    "    url = 'https://www.hkex.com.hk/chi/sorc/options/statistics_hv_iv_c.aspx'\n",
    "    driver.get(url)\n",
    "    soup = bs(driver.page_source,'lxml')\n",
    "    lastpage = soup.find(\"table\",{\"class\":\"noncms_table\"})\n",
    "    lastpage2 = lastpage.find(\"select\")\n",
    "    #print(lastpage2)\n",
    "    date_option = lastpage2.find_all('option')\n",
    "    driver.close()\n",
    "    for x in date_option:\n",
    "        date_list.append(x['value'])\n",
    "        date_value.append(x.text)\n",
    "    return date_list\n",
    "\n",
    "for x in underlying_list():\n",
    "    download_iv_file(x)\n",
    "\n"
   ]
  },
  {
   "cell_type": "code",
   "execution_count": 71,
   "metadata": {
    "jupyter": {
     "outputs_hidden": true
    }
   },
   "outputs": [],
   "source": [
    "# download the files and only import the latest record into sql database\n",
    "\n",
    "result = []\n",
    "\n",
    "conn = sqlite3.connect('data.db')\n",
    "try:\n",
    "\n",
    "    sql_data = pd.read_sql('select * from data', conn) \n",
    "\n",
    "    # check the latest date of the data\n",
    "    latest_date = sql_data['日期'].max()\n",
    "except:\n",
    "    latest_date = 0\n",
    "\n",
    "import pandas as pd\n",
    "folder_name = os.listdir('downloads')\n",
    "for x in folder_name:\n",
    "    try:\n",
    "        files = os.listdir('downloads/' + x)\n",
    "        for y in files:\n",
    "            df = pd.read_csv('downloads/'+x+'/'+y, skiprows=1)\n",
    "            df['ticker'] = y[0:5]\n",
    "            df['交易日'] = df['交易日'].apply(lambda x: datetime.strptime(x, '%d/%m/%Y'))\n",
    "            df = df[df['交易日']>latest_date]\n",
    "            \n",
    "            result.append(df)\n",
    "            df.to_sql('data',conn,if_exists='append')\n",
    "    except:\n",
    "        pass"
   ]
  },
  {
   "cell_type": "code",
   "execution_count": null,
   "metadata": {},
   "outputs": [],
   "source": []
  }
 ],
 "metadata": {
  "kernelspec": {
   "display_name": "Python 3",
   "language": "python",
   "name": "python3"
  },
  "language_info": {
   "codemirror_mode": {
    "name": "ipython",
    "version": 3
   },
   "file_extension": ".py",
   "mimetype": "text/x-python",
   "name": "python",
   "nbconvert_exporter": "python",
   "pygments_lexer": "ipython3",
   "version": "3.8.2"
  }
 },
 "nbformat": 4,
 "nbformat_minor": 4
}
