{
 "cells": [
  {
   "cell_type": "code",
   "execution_count": 3,
   "id": "capable-mirror",
   "metadata": {},
   "outputs": [],
   "source": [
    "import yfinance as yf"
   ]
  },
  {
   "cell_type": "code",
   "execution_count": 31,
   "id": "urban-honey",
   "metadata": {},
   "outputs": [],
   "source": [
    "symbol = {'513600.SS':'恒生指數ETF',\n",
    "'513900.SS':'港股100ETF',\n",
    "'513990.SS':'上證港股通ETF',\n",
    "'513090.SS':'香港證券ETF',\n",
    "'513680.SS':'恒生國企ETF',\n",
    "'513660.SS':'恒生ETF',\n",
    "'159823.SZ':'H股50ETF','513550.SZ':'華泰柏瑞中證港股通50ETF'}\n",
    "#data = yf.download(list(symbol.keys()), start=\"2017-01-01\", end=\"2017-04-30\")\n"
   ]
  },
  {
   "cell_type": "code",
   "execution_count": 32,
   "id": "exotic-bunch",
   "metadata": {},
   "outputs": [
    {
     "name": "stdout",
     "output_type": "stream",
     "text": [
      "[*********************100%***********************]  1 of 1 completed\n",
      "[*********************100%***********************]  1 of 1 completed\n",
      "[*********************100%***********************]  1 of 1 completed\n",
      "\n",
      "1 Failed download:\n",
      "- 513990.SS: No data found for this date range, symbol may be delisted\n",
      "[*********************100%***********************]  1 of 1 completed\n",
      "\n",
      "1 Failed download:\n",
      "- 513090.SS: No data found for this date range, symbol may be delisted\n",
      "[*********************100%***********************]  1 of 1 completed\n",
      "[*********************100%***********************]  1 of 1 completed\n",
      "[*********************100%***********************]  1 of 1 completed\n",
      "\n",
      "1 Failed download:\n",
      "- 159823.SZ: No data found for this date range, symbol may be delisted\n",
      "[*********************100%***********************]  1 of 1 completed\n",
      "\n",
      "1 Failed download:\n",
      "- 513550.SZ: No data found, symbol may be delisted\n"
     ]
    }
   ],
   "source": [
    "results = []\n",
    "for x in list(symbol.keys()):\n",
    "    results.append(yf.download(x, start=\"2021-01-20\", end=\"2021-01-21\"))"
   ]
  },
  {
   "cell_type": "code",
   "execution_count": 33,
   "id": "renewable-laser",
   "metadata": {},
   "outputs": [
    {
     "data": {
      "text/plain": [
       "[            Open  High    Low  Close  Adj Close    Volume\n",
       " Date                                                     \n",
       " 2021-01-20   2.9   2.9  2.773   2.78       2.78  30488100,\n",
       "              Open  High   Low  Close  Adj Close     Volume\n",
       " Date                                                      \n",
       " 2021-01-20  1.258  1.34  1.23  1.232      1.232  574239900,\n",
       " Empty DataFrame\n",
       " Columns: [Open, High, Low, Close, Adj Close, Volume]\n",
       " Index: [],\n",
       " Empty DataFrame\n",
       " Columns: [Open, High, Low, Close, Adj Close, Volume]\n",
       " Index: [],\n",
       "              Open   High   Low  Close  Adj Close    Volume\n",
       " Date                                                      \n",
       " 2021-01-20  1.068  1.068  1.04  1.045      1.045  10938000,\n",
       "              Open   High    Low  Close  Adj Close    Volume\n",
       " Date                                                       \n",
       " 2021-01-20  2.928  2.928  2.801  2.818      2.818  95955957,\n",
       " Empty DataFrame\n",
       " Columns: [Open, High, Low, Close, Adj Close, Volume]\n",
       " Index: [],\n",
       " Empty DataFrame\n",
       " Columns: [Open, High, Low, Close, Adj Close, Volume]\n",
       " Index: []]"
      ]
     },
     "execution_count": 33,
     "metadata": {},
     "output_type": "execute_result"
    }
   ],
   "source": [
    "results"
   ]
  },
  {
   "cell_type": "code",
   "execution_count": null,
   "id": "excessive-negotiation",
   "metadata": {},
   "outputs": [],
   "source": []
  }
 ],
 "metadata": {
  "kernelspec": {
   "display_name": "Python 3",
   "language": "python",
   "name": "python3"
  },
  "language_info": {
   "codemirror_mode": {
    "name": "ipython",
    "version": 3
   },
   "file_extension": ".py",
   "mimetype": "text/x-python",
   "name": "python",
   "nbconvert_exporter": "python",
   "pygments_lexer": "ipython3",
   "version": "3.8.2"
  }
 },
 "nbformat": 4,
 "nbformat_minor": 5
}
